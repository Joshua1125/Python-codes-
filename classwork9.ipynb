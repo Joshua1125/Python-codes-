{
 "cells": [
  {
   "cell_type": "code",
   "execution_count": 40,
   "id": "e2b8db92",
   "metadata": {},
   "outputs": [
    {
     "name": "stdout",
     "output_type": "stream",
     "text": [
      "36\n",
      "John 3:8\n",
      "8 The wind bloweth where it listeth, and thou hearest the sound thereof, but canst not tell whence it cometh, and whither it goeth: so is every one that is born of the Spirit.\n",
      "Find a word: Nicodemus\n",
      "Nicodemus : 1 There was a man of the Pharisees, named Nicodemus, a ruler of the Jews:\n",
      "Nicodemus : 4 Nicodemus saith unto him, How can a man be born when he is old? can he enter the second time into his mother's womb, and be born?\n",
      "Nicodemus : 9 Nicodemus answered and said unto him, How can these things be?\n"
     ]
    }
   ],
   "source": [
    "john3=[\"1 There was a man of the Pharisees, named Nicodemus, a ruler of the Jews:\",\n",
    "     \"2 The same came to Jesus by night, and said unto him, Rabbi, we know that thou art a teacher come from God: for no man can do these miracles that thou doest, except God be with him.\",\n",
    "     \"3 Jesus answered and said unto him, Verily, verily, I say unto thee, Except a man be born again, he cannot see the kingdom of God.\",\n",
    "     \"4 Nicodemus saith unto him, How can a man be born when he is old? can he enter the second time into his mother's womb, and be born?\",\n",
    "     \"5 Jesus answered, Verily, verily, I say unto thee, Except a man be born of water and of the Spirit, he cannot enter into the kingdom of God.\",\n",
    "     \"6 That which is born of the flesh is flesh; and that which is born of the Spirit is spirit.\",\n",
    "     \"7 Marvel not that I said unto thee, Ye must be born again.\",\n",
    "     \"8 The wind bloweth where it listeth, and thou hearest the sound thereof, but canst not tell whence it cometh, and whither it goeth: so is every one that is born of the Spirit.\",\n",
    "     \"9 Nicodemus answered and said unto him, How can these things be?\",\n",
    "\"10 Jesus answered and said unto him, Art thou a master of Israel, and knowest not these things?\",\n",
    "\"11 Verily, verily, I say unto thee, We speak that we do know, and testify that we have seen; and ye receive not our witness.\",\n",
    "\"12 If I have told you earthly things, and ye believe not, how shall ye believe, if I tell you of heavenly things?\",\n",
    "\"13 And no man hath ascended up to heaven, but he that came down from heaven, even the Son of man which is in heaven.\",\n",
    "\"14 And as Moses lifted up the serpent in the wilderness, even so must the Son of man be lifted up:\",\n",
    "\"15 That whosoever believeth in him should not perish, but have eternal life.\",\n",
    "\"16 For God so loved the world, that he gave his only begotten Son, that whosoever believeth in him should not perish, but have everlasting life.\",\n",
    "\"17 For God sent not his Son into the world to condemn the world; but that the world through him might be saved.\",\n",
    "\"18 He that believeth on him is not condemned: but he that believeth not is condemned already, because he hath not believed in the name of the only begotten Son of God.\",\n",
    "\"19 And this is the condemnation, that light is come into the world, and men loved darkness rather than light, because their deeds were evil.\",\n",
    "\"20 For every one that doeth evil hateth the light, neither cometh to the light, lest his deeds should be reproved.\",\n",
    "\"21 But he that doeth truth cometh to the light, that his deeds may be made manifest, that they are wrought in God.\",\n",
    "\"22 After these things came Jesus and his disciples into the land of Judaea; and there he tarried with them, and baptized.\",\n",
    "\"23 And John also was baptizing in Aenon near to Salim, because there was much water there: and they came, and were baptized.\",\n",
    "\"24 For John was not yet cast into prison.\",\n",
    "\"25 Then there arose a question between some of John's disciples and the Jews about purifying.\",\n",
    "\"26 And they came unto John, and said unto him, Rabbi, he that was with thee beyond Jordan, to whom thou barest witness, behold, the same baptizeth, and all men come to him.\",\n",
    "\"27 John answered and said, A man can receive nothing, except it be given him from heaven.\",\n",
    "\"28 Ye yourselves bear me witness, that I said, I am not the Christ, but that I am sent before him.\",\n",
    "\"29 He that hath the bride is the bridegroom: but the friend of the bridegroom, which standeth and heareth him, rejoiceth greatly because of the bridegroom's voice: this my joy therefore is fulfilled.\",\n",
    "\"30 He must increase, but I must decrease.\",\n",
    "\"31 He that cometh from above is above all: he that is of the earth is earthly, and speaketh of the earth: he that cometh from heaven is above all.\",\n",
    "\"32 And what he hath seen and heard, that he testifieth; and no man receiveth his testimony\",\n",
    "\"33 He that hath received his testimony hath set to his seal that God is true.\",\n",
    "\"34 For he whom God hath sent speaketh the words of God: for God giveth not the Spirit by measure unto him.\",\n",
    "\"35 The Father loveth the Son, and hath given all things into his hand.\",\n",
    "\"36 He that believeth on the Son hath everlasting life: and he that believeth not the Son shall not see life; but the wrath of God abideth on him.\",]\n",
    "print(len(john3))\n",
    "verse=int(input(\"John 3:\"))\n",
    "if verse in range(len(john3)):\n",
    "    verse=verse-1\n",
    "    print(john3[verse])\n",
    "else:\n",
    "    print(\"number out of range\")\n",
    "\n",
    "word=(input(\"Find a word: \"))\n",
    "counter=0\n",
    "for i in john3:\n",
    "    if word in i:\n",
    "        print(word,\":\",i)\n",
    "    else:\n",
    "        counter=counter+1\n",
    "if counter==36:\n",
    "    print(\"Word not found\")\n",
    "        \n",
    "        "
   ]
  },
  {
   "cell_type": "code",
   "execution_count": null,
   "id": "c04916ed",
   "metadata": {},
   "outputs": [],
   "source": []
  }
 ],
 "metadata": {
  "kernelspec": {
   "display_name": "Python 3",
   "language": "python",
   "name": "python3"
  },
  "language_info": {
   "codemirror_mode": {
    "name": "ipython",
    "version": 3
   },
   "file_extension": ".py",
   "mimetype": "text/x-python",
   "name": "python",
   "nbconvert_exporter": "python",
   "pygments_lexer": "ipython3",
   "version": "3.8.8"
  }
 },
 "nbformat": 4,
 "nbformat_minor": 5
}
