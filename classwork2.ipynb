{
 "cells": [
  {
   "cell_type": "code",
   "execution_count": 1,
   "id": "97b30973",
   "metadata": {},
   "outputs": [
    {
     "name": "stdout",
     "output_type": "stream",
     "text": [
      "Please input your first score: 40\n",
      "Please input your second score: 30\n",
      "Please input your third score: 40\n",
      "The average of your 3 scores is 36.666666666666664\n"
     ]
    }
   ],
   "source": [
    "import math\n",
    "\n",
    "Score1=float(input(\"Please input your first score: \"))\n",
    "Score2=float(input(\"Please input your second score: \"))\n",
    "Score3=float(input(\"Please input your third score: \"))\n",
    "\n",
    "Average= (Score1 + Score2 + Score3)/3\n",
    "\n",
    "print(\"The average of your 3 scores is\", Average)"
   ]
  },
  {
   "cell_type": "markdown",
   "id": "4de03c65",
   "metadata": {},
   "source": [
    "# Class Exercise"
   ]
  },
  {
   "cell_type": "code",
   "execution_count": 13,
   "id": "843c41c2",
   "metadata": {},
   "outputs": [
    {
     "name": "stdout",
     "output_type": "stream",
     "text": [
      "Name: oj\n",
      "Sales Volume: 900\n",
      "Your gross salary is: 150000\n"
     ]
    }
   ],
   "source": [
    "staffname=input(\"Name: \")\n",
    "salesvolume=float(input(\"Sales Volume: \"))\n",
    "salary=150000\n",
    "bonus=20000\n",
    "gross_salary=float(salary) + float(bonus)\n",
    "if salesvolume>=1000:\n",
    "    print(\"Your gross salary is:\", gross_salary)\n",
    "else:\n",
    "    print(\"Your gross salary is:\", salary)"
   ]
  },
  {
   "cell_type": "code",
   "execution_count": 17,
   "id": "bea61eca",
   "metadata": {},
   "outputs": [
    {
     "name": "stdout",
     "output_type": "stream",
     "text": [
      "Password: 1223434\n",
      "Wrong, you cannot access your account.\n"
     ]
    }
   ],
   "source": [
    "storedpw=\"passworD\"\n",
    "inputedpw=input(\"Password: \")\n",
    "if inputedpw == storedpw:\n",
    "    print(\"Correct, You can access your account.\")\n",
    "else:\n",
    "    print(\"Wrong, you cannot access your account.\")"
   ]
  },
  {
   "cell_type": "markdown",
   "id": "1d651699",
   "metadata": {},
   "source": [
    "# Classwork\n"
   ]
  },
  {
   "cell_type": "code",
   "execution_count": 30,
   "id": "05529ad6",
   "metadata": {},
   "outputs": [
    {
     "name": "stdout",
     "output_type": "stream",
     "text": [
      "Please enter a number within the range of 1 to 10: 15\n",
      "invalid input.\n"
     ]
    }
   ],
   "source": [
    "user_number=float(input(\"Please enter a number within the range of 1 to 10: \"))\n",
    "if user_number==1:\n",
    "    print(\"i\")\n",
    "elif user_number==2:\n",
    "    print(\"ii\")\n",
    "elif user_number==3:\n",
    "    print(\"iii\")\n",
    "elif user_number==4:\n",
    "    print(\"iv\")\n",
    "elif user_number==5:\n",
    "    print(\"v\")\n",
    "elif user_number==6:\n",
    "    print(\"vi\")\n",
    "elif user_number==7:\n",
    "    print(\"vii\")\n",
    "elif user_number==8:\n",
    "    print(\"viii\")\n",
    "elif user_number==9:\n",
    "    print(\"ix\")\n",
    "elif user_number==10:\n",
    "    print(\"x\")\n",
    "elif user_number not in range(1-10):\n",
    "    print(\"invalid input.\")"
   ]
  },
  {
   "cell_type": "code",
   "execution_count": null,
   "id": "98fc93a1",
   "metadata": {},
   "outputs": [],
   "source": []
  }
 ],
 "metadata": {
  "kernelspec": {
   "display_name": "Python 3",
   "language": "python",
   "name": "python3"
  },
  "language_info": {
   "codemirror_mode": {
    "name": "ipython",
    "version": 3
   },
   "file_extension": ".py",
   "mimetype": "text/x-python",
   "name": "python",
   "nbconvert_exporter": "python",
   "pygments_lexer": "ipython3",
   "version": "3.8.8"
  }
 },
 "nbformat": 4,
 "nbformat_minor": 5
}
