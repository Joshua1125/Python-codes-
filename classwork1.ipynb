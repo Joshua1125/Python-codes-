{
 "cells": [
  {
   "cell_type": "code",
   "execution_count": 4,
   "id": "60e79e82",
   "metadata": {},
   "outputs": [
    {
     "name": "stdout",
     "output_type": "stream",
     "text": [
      "I am glad to be\n"
     ]
    }
   ],
   "source": [
    "print('I am glad to be')"
   ]
  },
  {
   "cell_type": "code",
   "execution_count": 6,
   "id": "5ef39944",
   "metadata": {},
   "outputs": [
    {
     "name": "stdout",
     "output_type": "stream",
     "text": [
      "I'm a very nice person\n"
     ]
    }
   ],
   "source": [
    "print('I\\'m a very nice person')"
   ]
  },
  {
   "cell_type": "code",
   "execution_count": 8,
   "id": "56f4cae9",
   "metadata": {},
   "outputs": [
    {
     "name": "stdout",
     "output_type": "stream",
     "text": [
      "The value is: 17\n"
     ]
    }
   ],
   "source": [
    "variable = 17\n",
    "print(\"The value is:\",variable)"
   ]
  },
  {
   "cell_type": "code",
   "execution_count": 11,
   "id": "c575d9ca",
   "metadata": {},
   "outputs": [
    {
     "name": "stdout",
     "output_type": "stream",
     "text": [
      "The value is: covenant\n"
     ]
    }
   ],
   "source": [
    "variable = \"covenant\"\n",
    "print(\"The value is:\",variable)"
   ]
  },
  {
   "cell_type": "code",
   "execution_count": 22,
   "id": "1bc72a35",
   "metadata": {},
   "outputs": [
    {
     "name": "stdout",
     "output_type": "stream",
     "text": [
      "My name is Oluleye,Joshua. I am 16 years old.\n"
     ]
    }
   ],
   "source": [
    "First_name= \"Joshua\"\n",
    "Surname= \"Oluleye\"\n",
    "Age= 16\n",
    "print(\"My name is \"+Surname+\",\"+First_name+ \". I am\",Age, \"years old.\")"
   ]
  },
  {
   "cell_type": "code",
   "execution_count": 24,
   "id": "bb805e1e",
   "metadata": {},
   "outputs": [
    {
     "name": "stdout",
     "output_type": "stream",
     "text": [
      "Your name is: Oluleye Joshua\n",
      "Oluleye Joshua\n"
     ]
    }
   ],
   "source": [
    "myname=input(\"Your name is: \")\n",
    "print(myname)"
   ]
  },
  {
   "cell_type": "code",
   "execution_count": 32,
   "id": "44464275",
   "metadata": {},
   "outputs": [
    {
     "name": "stdout",
     "output_type": "stream",
     "text": [
      "The value of a is: 5\n",
      "The value of b is: 5\n",
      "The value of c is: 5\n",
      "5.0\n"
     ]
    }
   ],
   "source": [
    "a=float(input(\"The value of a is: \"))\n",
    "b=float(input(\"The value of b is: \"))\n",
    "c=float(input(\"The value of c is: \"))\n",
    "average=(a+b+c)/3\n",
    "print(float(average))"
   ]
  },
  {
   "cell_type": "code",
   "execution_count": 37,
   "id": "2a96650d",
   "metadata": {},
   "outputs": [
    {
     "name": "stdout",
     "output_type": "stream",
     "text": [
      "Name: Ojay\n",
      "Income: 1000\n",
      "Ojay 1000.0 100.0\n"
     ]
    }
   ],
   "source": [
    "name=input(\"Name: \")\n",
    "income=float(input(\"Income: \"))\n",
    "tithe=float(income/10)\n",
    "print(name, income, tithe)"
   ]
  },
  {
   "cell_type": "code",
   "execution_count": null,
   "id": "c5d9ed2f",
   "metadata": {},
   "outputs": [],
   "source": []
  }
 ],
 "metadata": {
  "kernelspec": {
   "display_name": "Python 3",
   "language": "python",
   "name": "python3"
  },
  "language_info": {
   "codemirror_mode": {
    "name": "ipython",
    "version": 3
   },
   "file_extension": ".py",
   "mimetype": "text/x-python",
   "name": "python",
   "nbconvert_exporter": "python",
   "pygments_lexer": "ipython3",
   "version": "3.8.8"
  }
 },
 "nbformat": 4,
 "nbformat_minor": 5
}
