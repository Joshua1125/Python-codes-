{
 "cells": [
  {
   "cell_type": "code",
   "execution_count": 4,
   "id": "9242327c",
   "metadata": {},
   "outputs": [
    {
     "name": "stdout",
     "output_type": "stream",
     "text": [
      "Enter your name:jgj\n",
      "Hello None\n"
     ]
    }
   ],
   "source": [
    "def main():\n",
    "    name=get_name()\n",
    "    print(\"Hello\",name)\n",
    "def get_name():\n",
    "    name=input(\"Enter your name:\")\n",
    "    \n",
    "main()"
   ]
  },
  {
   "cell_type": "code",
   "execution_count": 12,
   "id": "910ef1c3",
   "metadata": {},
   "outputs": [
    {
     "name": "stdout",
     "output_type": "stream",
     "text": [
      "50 birds in texas.\n",
      "80 birds in california.\n"
     ]
    }
   ],
   "source": [
    "def main():\n",
    "    texas()\n",
    "    california()\n",
    "def texas():\n",
    "    birds=50\n",
    "    print(birds,\"birds in texas.\")\n",
    "def california():\n",
    "    birds=80\n",
    "    print(birds,\"birds in california.\")\n",
    "main()"
   ]
  },
  {
   "cell_type": "markdown",
   "id": "63e9a3d9",
   "metadata": {},
   "source": [
    "A Program that will calculate the company’s contribution to an\n",
    "employee’s retirement account for a year. "
   ]
  },
  {
   "cell_type": "code",
   "execution_count": null,
   "id": "a2204b87",
   "metadata": {},
   "outputs": [],
   "source": [
    "rate=0.05\n",
    "num_employee=int(input(\"How many employees are in the organisation: \"))\n",
    "for i in range(num_employee):\n",
    "    gross_pay=float(input(\"Employee annual gross pay: \"))\n",
    "    bonus=float(input(\"Quarterly bonus: \"))\n",
    "    contribution1=(gross_pay*rate)\n",
    "    contribution2=(bonus*rate)\n",
    "    retirement_plan=contribution1 + contribution2\n",
    "    print(\"The contribution for the gross pay is\",contribution1)\n",
    "    print(\"The contribution for the bonuses is\",contribution2)\n",
    "    print(\"The total contribbution to the retirement plan is\",retirement_plan)"
   ]
  },
  {
   "cell_type": "code",
   "execution_count": null,
   "id": "9329f8f6",
   "metadata": {},
   "outputs": [],
   "source": []
  }
 ],
 "metadata": {
  "kernelspec": {
   "display_name": "Python 3",
   "language": "python",
   "name": "python3"
  },
  "language_info": {
   "codemirror_mode": {
    "name": "ipython",
    "version": 3
   },
   "file_extension": ".py",
   "mimetype": "text/x-python",
   "name": "python",
   "nbconvert_exporter": "python",
   "pygments_lexer": "ipython3",
   "version": "3.8.8"
  }
 },
 "nbformat": 4,
 "nbformat_minor": 5
}
