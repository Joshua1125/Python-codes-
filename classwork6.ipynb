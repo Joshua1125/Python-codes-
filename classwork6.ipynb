{
 "cells": [
  {
   "cell_type": "code",
   "execution_count": 7,
   "id": "0db3ffa6",
   "metadata": {},
   "outputs": [
    {
     "name": "stdout",
     "output_type": "stream",
     "text": [
      "Input first number: 5\n",
      "Input second number: 5\n",
      "The sum is  10\n"
     ]
    }
   ],
   "source": [
    "input(\"Welcome to Ojay's calc. What function do you want to perform?\")\n",
    "input(\"1. Addition/n2. Subtraction/n3. Division/n4. Multiplication/n5. Expeonential\")\n",
    "a=int(input(\"Input first number: \"))\n",
    "b=int(input(\"Input second number: \"))\n",
    "def sum(a,b):\n",
    "    c=a+b\n",
    "    return c;\n",
    "print(\"The sum is \",sum(a,b))"
   ]
  },
  {
   "cell_type": "code",
   "execution_count": 30,
   "id": "2cd85d9e",
   "metadata": {},
   "outputs": [
    {
     "name": "stdout",
     "output_type": "stream",
     "text": [
      "Welcome to Ojay's calc. What function do you want to perform?\n",
      "1. Addition\n",
      "2. Subtraction\n",
      "3. Division\n",
      "4. Multiplication\n",
      "5. Exponential\n",
      "2\n",
      "Input first number: 0\n",
      "Input second number: 5\n",
      "-5\n"
     ]
    }
   ],
   "source": [
    "input(\"Welcome to Ojay's calc. What function do you want to perform?\")\n",
    "function=int(input(\"1. Addition\\n2. Subtraction\\n3. Division\\n4. Multiplication\\n5. Exponential\\n\"))\n",
    "if function not in range(1,6):\n",
    "    print(\"Error\")\n",
    "else:\n",
    "    a=int(input(\"Input first number: \"))\n",
    "    b=int(input(\"Input second number: \"))\n",
    "def add(a,b):\n",
    "    c=a+b\n",
    "    return c;\n",
    "def subtract(a,b):\n",
    "    c=a-b\n",
    "    return c;\n",
    "def multiply(a,b):\n",
    "    c=a*b\n",
    "    return c;\n",
    "def divide(a,b):\n",
    "    c=a/b\n",
    "    return c;\n",
    "def exponent(a,b):\n",
    "    c=pow(a,b)\n",
    "    return c;\n",
    "if function==1:\n",
    "    print(add(a,b))\n",
    "elif function==2:\n",
    "    print(subtract(a,b))\n",
    "elif function==3:\n",
    "    print(divide(a,b))\n",
    "elif function==4:\n",
    "    print(multiply(a,b))\n",
    "elif function==5:\n",
    "    print(exponent(a,b))\n"
   ]
  },
  {
   "cell_type": "code",
   "execution_count": null,
   "id": "bcf0c3a8",
   "metadata": {},
   "outputs": [],
   "source": []
  },
  {
   "cell_type": "code",
   "execution_count": null,
   "id": "5dd7cea3",
   "metadata": {},
   "outputs": [],
   "source": []
  }
 ],
 "metadata": {
  "kernelspec": {
   "display_name": "Python 3",
   "language": "python",
   "name": "python3"
  },
  "language_info": {
   "codemirror_mode": {
    "name": "ipython",
    "version": 3
   },
   "file_extension": ".py",
   "mimetype": "text/x-python",
   "name": "python",
   "nbconvert_exporter": "python",
   "pygments_lexer": "ipython3",
   "version": "3.8.8"
  }
 },
 "nbformat": 4,
 "nbformat_minor": 5
}
