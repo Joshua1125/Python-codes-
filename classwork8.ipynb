{
 "cells": [
  {
   "cell_type": "code",
   "execution_count": 11,
   "id": "9da0232f",
   "metadata": {},
   "outputs": [
    {
     "name": "stdout",
     "output_type": "stream",
     "text": [
      "Joshua 08082534514\n"
     ]
    }
   ],
   "source": [
    "def showdetails():\n",
    "    name=\"Joshua\"\n",
    "    phoneno=\"08082534514\"\n",
    "    return name,phoneno\n",
    "name, phoneno=showdetails()\n",
    "print(name,phoneno)"
   ]
  },
  {
   "cell_type": "code",
   "execution_count": 74,
   "id": "61079d15",
   "metadata": {},
   "outputs": [
    {
     "name": "stdout",
     "output_type": "stream",
     "text": [
      "Input an integer number: 4\n",
      "4\n"
     ]
    }
   ],
   "source": [
    "def classwork():\n",
    "    b=math.sqrt(a)\n",
    "    return a,b\n",
    "a=int(input(\"Input an integer number: \"))\n",
    "print(a)\n",
    "print(b)"
   ]
  },
  {
   "cell_type": "code",
   "execution_count": 71,
   "id": "12a83b75",
   "metadata": {},
   "outputs": [
    {
     "name": "stdout",
     "output_type": "stream",
     "text": [
      "[\"I don't know\"]\n",
      "1\n",
      "Ojay\n",
      "Ola\n",
      "[\"I don't know\"]\n",
      "Input name: Ola\n",
      "Name found\n",
      "3\n",
      "['Joshua', 'Ojay', 'KD', 'Sarah']\n",
      "[\"I don't know\", 'Joshua', 'Ojay', 'KD', 'Sarah']\n",
      "['Joshua', 'Ojay']\n",
      "Append number 1\n",
      "a\n",
      "[\"I don't know\", 'Joshua', 'Ojay', 'KD', 'Sarah', 'a']\n",
      "Append number 2\n",
      "b\n",
      "[\"I don't know\", 'Joshua', 'Ojay', 'KD', 'Sarah', 'a', 'b']\n",
      "Append number 3\n",
      "c\n",
      "[\"I don't know\", 'Joshua', 'Ojay', 'KD', 'Sarah', 'a', 'b', 'c']\n",
      "Append number 4\n",
      "d\n",
      "[\"I don't know\", 'Joshua', 'Ojay', 'KD', 'Sarah', 'a', 'b', 'c', 'd']\n",
      "Append number 5\n",
      "e\n",
      "[\"I don't know\", 'Joshua', 'Ojay', 'KD', 'Sarah', 'a', 'b', 'c', 'd', 'e']\n",
      "Insert name: Oluleye\n",
      "['Oluleye', 'Joshua', 'Ojay', 'KD', 'Sarah']\n"
     ]
    }
   ],
   "source": [
    "ojay=[\"I don't know\"]\n",
    "newlist=[\"Joshua\",\"Obi\",\"KD\",\"Ola\",\"Sarah\"]\n",
    "listwords=list(ojay)\n",
    "print(listwords)\n",
    "print(len(listwords))\n",
    "newlist[1]=\"Ojay\"\n",
    "print(newlist[1])\n",
    "print(newlist[3])\n",
    "for item in ojay:\n",
    "    print(ojay)\n",
    "name=input(\"Input name: \")\n",
    "if name in list(newlist):\n",
    "    print(\"Name found\")\n",
    "    print(newlist.index(name))\n",
    "    newlist.remove(name)\n",
    "    print(newlist)\n",
    "else:\n",
    "    print(\"Name not found\")\n",
    "biglist=ojay+newlist\n",
    "print(biglist)\n",
    "print(newlist[-4:-2])\n",
    "for i in range(1,6):\n",
    "    print(\"Append number\",i)\n",
    "    biglist.append(input())\n",
    "    i=1+i\n",
    "    print(biglist)\n",
    "newlist.insert(0,input(\"Insert name: \"))\n",
    "print(newlist)"
   ]
  },
  {
   "cell_type": "code",
   "execution_count": null,
   "id": "fb989aee",
   "metadata": {},
   "outputs": [],
   "source": []
  }
 ],
 "metadata": {
  "kernelspec": {
   "display_name": "Python 3",
   "language": "python",
   "name": "python3"
  },
  "language_info": {
   "codemirror_mode": {
    "name": "ipython",
    "version": 3
   },
   "file_extension": ".py",
   "mimetype": "text/x-python",
   "name": "python",
   "nbconvert_exporter": "python",
   "pygments_lexer": "ipython3",
   "version": "3.8.8"
  }
 },
 "nbformat": 4,
 "nbformat_minor": 5
}
