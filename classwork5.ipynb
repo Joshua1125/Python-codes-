{
 "cells": [
  {
   "cell_type": "code",
   "execution_count": 1,
   "id": "3519a186",
   "metadata": {},
   "outputs": [
    {
     "name": "stdout",
     "output_type": "stream",
     "text": [
      "Please input the number of times you want the loop to run: 5\n"
     ]
    }
   ],
   "source": [
    "counter=int(input(\"Please input the number of times you want the loop to run: \"))\n",
    "    for i in range(counter):\n",
    "        total=0\n",
    "        number=int(input(\"Number: \"))\n",
    "        print()\n"
   ]
  },
  {
   "cell_type": "code",
   "execution_count": 13,
   "id": "cf75c5d0",
   "metadata": {},
   "outputs": [
    {
     "name": "stdout",
     "output_type": "stream",
     "text": [
      "2450 "
     ]
    }
   ],
   "source": [
    "sum=0\n",
    "for item in range(2,100,2):\n",
    "    sum=sum+item\n",
    "print(sum, end=' ')"
   ]
  },
  {
   "cell_type": "code",
   "execution_count": 14,
   "id": "cfec65d8",
   "metadata": {},
   "outputs": [
    {
     "name": "stdout",
     "output_type": "stream",
     "text": [
      "2500 2550\n"
     ]
    }
   ],
   "source": [
    "sum_even=0\n",
    "sum_odd=0\n",
    "for item in range(1,101):\n",
    "    if item%2==0:\n",
    "        sum_even=sum_even+item\n",
    "    else:\n",
    "        sum_odd=sum_odd+item\n",
    "print(sum_odd,sum_even)"
   ]
  },
  {
   "cell_type": "code",
   "execution_count": 22,
   "id": "83f77b8a",
   "metadata": {},
   "outputs": [
    {
     "name": "stdout",
     "output_type": "stream",
     "text": [
      "Input a number: 6\n",
      "Keep entering: 7\n",
      "Keep entering: 4\n",
      "Keep entering: 5\n",
      "Keep entering: 6\n",
      "Keep entering: 7\n",
      "Keep entering: 0\n",
      "This program will now terminate.\n"
     ]
    }
   ],
   "source": [
    "var=float(input(\"Input a number: \"))\n",
    "while var!=0:\n",
    "    var=float(input(\"Keep entering: \"))\n",
    "if var==0:\n",
    "    print(\"This program will now terminate.\")"
   ]
  },
  {
   "cell_type": "code",
   "execution_count": 43,
   "id": "6faff2c5",
   "metadata": {},
   "outputs": [
    {
     "name": "stdout",
     "output_type": "stream",
     "text": [
      "older or younger?: younger\n",
      "A younger person will burn 42.0 calories per minute.\n",
      "A younger person will burn 63.0 calories per minute.\n",
      "A younger person will burn 84.0 calories per minute.\n",
      "A younger person will burn 105.0 calories per minute.\n",
      "A younger person will burn 126.0 calories per minute.\n"
     ]
    }
   ],
   "source": [
    "category=input(\"older or younger?: \")\n",
    "younger=4.2\n",
    "older=3.5\n",
    "for i in range(10,31,5):\n",
    "    burnt_older=i*older\n",
    "    burnt_younger=i*younger\n",
    "    if category==\"older\":\n",
    "        print(\"An older person will burn\",burnt_older,\"calories per minute.\")\n",
    "    else:    \n",
    "        print(\"A younger person will burn\",burnt_younger,\"calories per minute.\")\n",
    "   \n",
    "    "
   ]
  },
  {
   "cell_type": "code",
   "execution_count": null,
   "id": "b825a68c",
   "metadata": {},
   "outputs": [],
   "source": []
  },
  {
   "cell_type": "code",
   "execution_count": null,
   "id": "61165773",
   "metadata": {},
   "outputs": [],
   "source": [
    "|"
   ]
  }
 ],
 "metadata": {
  "kernelspec": {
   "display_name": "Python 3",
   "language": "python",
   "name": "python3"
  },
  "language_info": {
   "codemirror_mode": {
    "name": "ipython",
    "version": 3
   },
   "file_extension": ".py",
   "mimetype": "text/x-python",
   "name": "python",
   "nbconvert_exporter": "python",
   "pygments_lexer": "ipython3",
   "version": "3.8.8"
  }
 },
 "nbformat": 4,
 "nbformat_minor": 5
}
