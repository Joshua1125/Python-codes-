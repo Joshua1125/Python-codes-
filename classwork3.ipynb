{
 "cells": [
  {
   "cell_type": "code",
   "execution_count": 8,
   "id": "5db7a8cc",
   "metadata": {},
   "outputs": [
    {
     "name": "stdout",
     "output_type": "stream",
     "text": [
      "What's your score? 130\n",
      "Invalid input\n"
     ]
    }
   ],
   "source": [
    "score=float(input(\"What's your score? \"))\n",
    "if score >= 70 and score <= 100:\n",
    "    print(\"Your grade is an A\")\n",
    "elif score >=60 and score <70:\n",
    "    print(\"Your grade is a B\")\n",
    "elif score >= 50 and score < 60:\n",
    "    print(\"Your grade is a C\")\n",
    "elif score >= 40 and score < 50:\n",
    "    print(\"Your grade is a D\")\n",
    "elif score < 40 and score>= 0:\n",
    "    print(\"Your grade is an F\")\n",
    "else: print(\"Invalid input\")"
   ]
  },
  {
   "cell_type": "code",
   "execution_count": 11,
   "id": "0f148d74",
   "metadata": {},
   "outputs": [
    {
     "name": "stdout",
     "output_type": "stream",
     "text": [
      "How much do you earn per annum? 50000\n",
      "How many years have you worked? 4\n",
      "You are qualified for this loan.\n"
     ]
    }
   ],
   "source": [
    "salary=float(input(\"How much do you earn per annum? \"))\n",
    "years=int(input(\"How many years have you worked? \"))\n",
    "if salary <30000:\n",
    "    print(\"You are not qualified for this loan!!\")\n",
    "elif years < 2:\n",
    "    print(\"You are not qualified for this loan!!\")\n",
    "elif salary >= 30000:\n",
    "    print(\"You are qualified for this loan.\")\n",
    "elif years >= 2:\n",
    "    print(\"You are qulified for this loan.\")"
   ]
  },
  {
   "cell_type": "markdown",
   "id": "84c44fc2",
   "metadata": {},
   "source": [
    "Class Exercise"
   ]
  },
  {
   "cell_type": "code",
   "execution_count": 14,
   "id": "5eed6e9f",
   "metadata": {},
   "outputs": [
    {
     "name": "stdout",
     "output_type": "stream",
     "text": [
      "How many books have you purchased? 10000\n",
      "You are awarded sixty points.\n"
     ]
    }
   ],
   "source": [
    "books=int(input(\"How many books have you purchased? \"))\n",
    "if books==0:\n",
    "    print(\"You are awarded zero points.\")\n",
    "elif books==1:\n",
    "    print(\"You are awarded five points.\")\n",
    "elif books==2:\n",
    "    print(\"You are awarded fifteen points.\")\n",
    "elif books==3:\n",
    "    print(\"You are awarded thirty points.\")\n",
    "elif books>=4:\n",
    "    print(\"You are awarded sixty points.\")\n",
    "else: print(\"Invalid input.\")"
   ]
  },
  {
   "cell_type": "markdown",
   "id": "f71cf147",
   "metadata": {},
   "source": [
    "Mass And Weight"
   ]
  },
  {
   "cell_type": "code",
   "execution_count": 22,
   "id": "883abe5c",
   "metadata": {},
   "outputs": [
    {
     "name": "stdout",
     "output_type": "stream",
     "text": [
      "Input the object's mass in kg: 1000\n",
      "The weight of the object is 9800.0 Newtons and it is heavier than 1000 newtons. Therefore it is too heavy.\n"
     ]
    }
   ],
   "source": [
    "mass=float(input(\"Input the object's mass in kg: \"))\n",
    "weight=mass * 9.8\n",
    "if weight>1000:\n",
    "    print(\"The weight of the object is\",weight,\"Newtons and it is heavier than 1000 newtons. Therefore it is too heavy.\")\n",
    "elif weight < 10:\n",
    "    print(\"The weight of the object is\",weight,\"Newtons and it is lighter than 10 newtons. Therefore it is too light.\")\n",
    "else: print(\"The weight of the object is\",weight,\"Newtons and it is just right.\")"
   ]
  },
  {
   "cell_type": "code",
   "execution_count": null,
   "id": "369feb95",
   "metadata": {},
   "outputs": [],
   "source": []
  }
 ],
 "metadata": {
  "kernelspec": {
   "display_name": "Python 3",
   "language": "python",
   "name": "python3"
  },
  "language_info": {
   "codemirror_mode": {
    "name": "ipython",
    "version": 3
   },
   "file_extension": ".py",
   "mimetype": "text/x-python",
   "name": "python",
   "nbconvert_exporter": "python",
   "pygments_lexer": "ipython3",
   "version": "3.8.8"
  }
 },
 "nbformat": 4,
 "nbformat_minor": 5
}
