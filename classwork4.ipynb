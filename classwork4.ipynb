{
 "cells": [
  {
   "cell_type": "markdown",
   "id": "6670c7b9",
   "metadata": {},
   "source": [
    "# LOOPS"
   ]
  },
  {
   "cell_type": "code",
   "execution_count": 2,
   "id": "fbf85e8e",
   "metadata": {},
   "outputs": [],
   "source": [
    "num = 5\n",
    "while num<5:\n",
    "    num=num+1\n",
    "    print(\"I must make it to heaven\")"
   ]
  },
  {
   "cell_type": "code",
   "execution_count": 6,
   "id": "4fe6f958",
   "metadata": {},
   "outputs": [
    {
     "name": "stdout",
     "output_type": "stream",
     "text": [
      "Enter the amount of sales: 1000\n",
      "Enter the commission rate: 10\n",
      "The commission is10,000.00\n",
      "Do you want to calculate another commission? (Enter y for yes):y\n",
      "Enter the amount of sales: 300\n",
      "Enter the commission rate: 20\n",
      "The commission is6,000.00\n",
      "Do you want to calculate another commission? (Enter y for yes):n\n"
     ]
    }
   ],
   "source": [
    "keepgoing=\"y\"\n",
    "while keepgoing==\"y\":\n",
    "    sales=float(input(\"Enter the amount of sales: \"))\n",
    "    commrate=float(input(\"Enter the commission rate: \"))\n",
    "    \n",
    "    comm=commrate*sales\n",
    "    print(\"The commission is \",format(comm,',.2f'), sep=\"\")\n",
    "    \n",
    "    keepgoing=input(\"Do you want to calculate another commission? (Enter y for yes):\")"
   ]
  },
  {
   "cell_type": "code",
   "execution_count": 9,
   "id": "aa5b23b0",
   "metadata": {},
   "outputs": [
    {
     "name": "stdout",
     "output_type": "stream",
     "text": [
      "Yhese are the fathers of faith:  Oyedepo Copeland Adeboye Chris "
     ]
    }
   ],
   "source": [
    "print(\"Yhese are the fathers of faith: \",end=\" \")\n",
    "for name in [\"Oyedepo\", \"Copeland\", \"Adeboye\", \"Chris\"]:\n",
    "    print(name, end=' ')"
   ]
  },
  {
   "cell_type": "code",
   "execution_count": 11,
   "id": "a964b87b",
   "metadata": {},
   "outputs": [
    {
     "name": "stdout",
     "output_type": "stream",
     "text": [
      "These are the fathers of faith: \n",
      "I shall make it\n",
      "I shall make it\n",
      "I shall make it\n",
      "I shall make it\n"
     ]
    }
   ],
   "source": [
    "print(\"These are the fathers of faith: \")\n",
    "for name in [\"Oyedepo\", \"Copeland\", \"Adeboye\", \"Chris\"]:\n",
    "    print(\"I shall make it\")"
   ]
  },
  {
   "cell_type": "code",
   "execution_count": 13,
   "id": "0ea8f914",
   "metadata": {},
   "outputs": [
    {
     "name": "stdout",
     "output_type": "stream",
     "text": [
      "0 1 2 3 4 5 6 "
     ]
    }
   ],
   "source": [
    "item=range(7)\n",
    "for item in range(7):\n",
    "    print(item, end=' ')"
   ]
  },
  {
   "cell_type": "code",
   "execution_count": 19,
   "id": "f00f040d",
   "metadata": {},
   "outputs": [
    {
     "name": "stdout",
     "output_type": "stream",
     "text": [
      "2 x 1 = 2\n",
      "2 x 2 = 4\n",
      "2 x 3 = 6\n",
      "2 x 4 = 8\n",
      "2 x 5 = 10\n",
      "2 x 6 = 12\n",
      "2 x 7 = 14\n",
      "2 x 8 = 16\n",
      "2 x 9 = 18\n",
      "2 x 10 = 20\n",
      "2 x 11 = 22\n",
      "2 x 12 = 24\n"
     ]
    }
   ],
   "source": [
    "number=range(1,13)\n",
    "for item in range(1,13):\n",
    "    mult_table=item*2\n",
    "    print(\"2 x\",item,\"=\",mult_table)"
   ]
  },
  {
   "cell_type": "code",
   "execution_count": 24,
   "id": "fb7fd86c",
   "metadata": {},
   "outputs": [
    {
     "name": "stdout",
     "output_type": "stream",
     "text": [
      "2 4 6 8 10 12 14 16 18 20 22 24 26 28 30 32 34 36 38 40 42 44 46 48 50 52 54 56 58 60 62 64 66 68 70 72 74 76 78 80 82 84 86 88 90 92 94 96 98 "
     ]
    }
   ],
   "source": [
    "for item in range(2,100,2):\n",
    "    print(item, end=' ')"
   ]
  }
 ],
 "metadata": {
  "kernelspec": {
   "display_name": "Python 3",
   "language": "python",
   "name": "python3"
  },
  "language_info": {
   "codemirror_mode": {
    "name": "ipython",
    "version": 3
   },
   "file_extension": ".py",
   "mimetype": "text/x-python",
   "name": "python",
   "nbconvert_exporter": "python",
   "pygments_lexer": "ipython3",
   "version": "3.8.8"
  }
 },
 "nbformat": 4,
 "nbformat_minor": 5
}
